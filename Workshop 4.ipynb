{
 "cells": [
  {
   "cell_type": "code",
   "execution_count": 3,
   "id": "51d537b1-a06c-4500-b2e8-11cc3a30f47d",
   "metadata": {},
   "outputs": [],
   "source": [
    "def transcribeDNA(seq):\n",
    "    '''    \n",
    "    Transcribe a DNA sequence into an mRNA sequence\n",
    "    '''\n",
    "    \n",
    "    trans_dict = {\"A\": \"T\", \"T\": \"A\", \"C\": \"G\", \"G\": \"C\"}\n",
    "    dna_seq = \"\".join([trans_dict[x] for x in seq])\n",
    "    \n",
    "    return(dna_seq[::-1])"
   ]
  },
  {
   "cell_type": "code",
   "execution_count": 5,
   "id": "1a8bd637-200b-401a-be4b-878e03407d8e",
   "metadata": {},
   "outputs": [],
   "source": [
    "def transcribeDNA(seq):\n",
    "    '''    \n",
    "    Transcribe a DNA sequence into an mRNA sequence\n",
    "    '''\n",
    "    trans_dict = {\"A\": \"T\", \"T\": \"A\", \"C\": \"G\", \"G\": \"C\"}\n",
    "    dna_seq = \"\".join([trans_dict[x] for x in seq])\n",
    "    return(dna_seq[::-1])"
   ]
  },
  {
   "cell_type": "code",
   "execution_count": 7,
   "id": "6e4dbc3e-4ba3-4aee-8ed2-2a933f1bec75",
   "metadata": {},
   "outputs": [],
   "source": [
    "def translateSeq(seq, codons, frame=1):\n",
    "    '''\n",
    "    Translate an mRNA sequence into a peptide\n",
    "    st is the starting nt index, i.e. which reading frame: 0, 1 or 2\n",
    "    '''\n",
    "    \n",
    "    codon_dict = {\"UUU\": \"F\", \"UUC\": \"F\", \"UUA\": \"L\", \"UUG\": \"L\", \"UCU\": \"S\", \"UCC\": \"S\", \"UCA\": \"S\", \"UCG\": \"S\",\n",
    "                  \"UAU\": \"Y\", \"UAC\": \"Y\", \"UAA\": \"*\", \"UAG\": \"*\", \"UGU\": \"C\", \"UGC\": \"C\", \"UGA\": \"*\", \"UGG\": \"W\",\n",
    "                  \"CUU\": \"L\", \"CUC\": \"L\", \"CUA\": \"L\", \"CUG\": \"L\", \"CCU\": \"P\", \"CCC\": \"P\", \"CCA\": \"P\", \"CCG\": \"P\",\n",
    "                  \"CAU\": \"H\", \"CAC\": \"H\", \"CAA\": \"Q\", \"CAG\": \"Q\", \"CGU\": \"R\", \"CGC\": \"R\", \"CGA\": \"R\", \"CGG\": \"R\",\n",
    "                  \"AUU\": \"I\", \"AUC\": \"I\", \"AUA\": \"I\", \"AUG\": \"M\", \"ACU\": \"T\", \"ACC\": \"T\", \"ACA\": \"T\", \"ACG\": \"T\",\n",
    "                  \"AAU\": \"N\", \"AAC\": \"N\", \"AAA\": \"K\", \"AAG\": \"K\", \"AGU\": \"S\", \"AGC\": \"S\", \"AGA\": \"R\", \"AGG\": \"R\",\n",
    "                  \"GUU\": \"V\", \"GUC\": \"V\", \"GUA\": \"V\", \"GUG\": \"V\", \"GCU\": \"A\", \"GCC\": \"A\", \"GCA\": \"A\", \"GCG\": \"A\",\n",
    "                  \"GAU\": \"D\", \"GAC\": \"D\", \"GAA\": \"E\", \"GAG\": \"E\", \"GGU\": \"G\", \"GGC\": \"G\", \"GGA\": \"G\", \"GGG\": \"G\"}"
   ]
  },
  {
   "cell_type": "code",
   "execution_count": 22,
   "id": "a665bf5c-c605-4622-9c5c-8a4816d5ff1c",
   "metadata": {},
   "outputs": [
    {
     "ename": "SyntaxError",
     "evalue": "expected ':' (2778053248.py, line 6)",
     "output_type": "error",
     "traceback": [
      "\u001b[1;36m  Cell \u001b[1;32mIn[22], line 6\u001b[1;36m\u001b[0m\n\u001b[1;33m    if any(re_find.finduall(seq))\u001b[0m\n\u001b[1;37m                                 ^\u001b[0m\n\u001b[1;31mSyntaxError\u001b[0m\u001b[1;31m:\u001b[0m expected ':'\n"
     ]
    }
   ],
   "source": [
    "if type (seq) != str:\n",
    "    raise TypeError(\"str should be a string not ()\".format(type(seq)))\n",
    "\n",
    "re_find = re.compile(\"[BC-FH-V-Z]\")\n",
    "\n",
    "if any(re_find.finduall(seq))\n",
    "\n",
    "if any([\"A\" in xt for xt in seq])\n",
    "     pass\n",
    "if any([\"U\" in xt for xt in seq])\n",
    "     pass\n",
    "if any([\"G\" in xt for xt in seq])\n",
    "     pass\n",
    "if any([\"C\" in xt for xt in seq])\n",
    "     pass\n",
    "else:\n",
    "    raise TypeError(\"seq should be A, U, C or G\")"
   ]
  },
  {
   "cell_type": "code",
   "execution_count": 15,
   "id": "df4ad13b-8531-4ca3-93d3-cad085a852f2",
   "metadata": {},
   "outputs": [
    {
     "ename": "NameError",
     "evalue": "name 'frame' is not defined",
     "output_type": "error",
     "traceback": [
      "\u001b[1;31m---------------------------------------------------------------------------\u001b[0m",
      "\u001b[1;31mNameError\u001b[0m                                 Traceback (most recent call last)",
      "Cell \u001b[1;32mIn[15], line 2\u001b[0m\n\u001b[0;32m      1\u001b[0m peptide \u001b[38;5;241m=\u001b[39m \u001b[38;5;124m\"\u001b[39m\u001b[38;5;124m\"\u001b[39m\n\u001b[1;32m----> 2\u001b[0m \u001b[38;5;28;01mif\u001b[39;00m frame \u001b[38;5;241m==\u001b[39m \u001b[38;5;241m1\u001b[39m:\n\u001b[0;32m      3\u001b[0m     fseq \u001b[38;5;241m=\u001b[39m seq\n\u001b[0;32m      4\u001b[0m \u001b[38;5;28;01melif\u001b[39;00m frame \u001b[38;5;241m==\u001b[39m \u001b[38;5;241m2\u001b[39m:\n",
      "\u001b[1;31mNameError\u001b[0m: name 'frame' is not defined"
     ]
    }
   ],
   "source": [
    "peptide = \"\"\n",
    "if frame == 1:\n",
    "    fseq = seq\n",
    "elif frame == 2:\n",
    "    fseq = seq[1:-2]\n",
    "elif frame == 3:\n",
    "    fseq = seq[2:-1]\n",
    "\n",
    "for idx in range(0, len(fseq), 3):\n",
    "    codon = fseq[idx: idx + 3]\n",
    "    aa = codons[codon]\n",
    "    \n",
    "    if idx != len(fseq) - 3:\n",
    "        if aa == \"*\":\n",
    "            return(peptide + aa)\n",
    "        else:\n",
    "            peptide += aa\n",
    "    else:\n",
    "        peptide += aa\n",
    "\n",
    "return peptide"
   ]
  },
  {
   "cell_type": "code",
   "execution_count": null,
   "id": "23bf0ece-d285-42b5-afe0-f97a4e76b595",
   "metadata": {},
   "outputs": [],
   "source": []
  }
 ],
 "metadata": {
  "kernelspec": {
   "display_name": "Python 3 (ipykernel)",
   "language": "python",
   "name": "python3"
  },
  "language_info": {
   "codemirror_mode": {
    "name": "ipython",
    "version": 3
   },
   "file_extension": ".py",
   "mimetype": "text/x-python",
   "name": "python",
   "nbconvert_exporter": "python",
   "pygments_lexer": "ipython3",
   "version": "3.11.7"
  }
 },
 "nbformat": 4,
 "nbformat_minor": 5
}
